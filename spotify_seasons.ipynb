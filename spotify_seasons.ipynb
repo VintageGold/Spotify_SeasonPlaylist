{
 "cells": [
  {
   "cell_type": "markdown",
   "id": "f5d97c92",
   "metadata": {},
   "source": [
    "# Spotify Season Playlist Maker\n",
    "\n",
    "* Go to this website and get Oath toke - https://developer.spotify.com/console/get-current-user-saved-tracks/?market=&limit=&offset=\n",
    "* Allow permissions to user-library-read, user-read-email, user-follow-read, playlist-modify-private, playlist-modify-public\n",
    "* Assign the token to the \"token\" variable\n",
    "* Select Cell -> Run Cells"
   ]
  },
  {
   "cell_type": "markdown",
   "id": "b4a6e6f7",
   "metadata": {},
   "source": [
    "# Enter User Name"
   ]
  },
  {
   "cell_type": "code",
   "execution_count": null,
   "id": "bb6068a9",
   "metadata": {},
   "outputs": [],
   "source": [
    "user_name = \"Sample\"\n",
    "begin_month = 9\n",
    "end_month = 12"
   ]
  },
  {
   "cell_type": "markdown",
   "id": "fad77bb9",
   "metadata": {},
   "source": [
    "# Insert Token"
   ]
  },
  {
   "cell_type": "code",
   "execution_count": null,
   "id": "999d496d",
   "metadata": {},
   "outputs": [],
   "source": [
    "token = \"\"\n"
   ]
  },
  {
   "cell_type": "markdown",
   "id": "633e4111",
   "metadata": {},
   "source": [
    "# Select Cell -> Run Cells to Generate your Playlist"
   ]
  },
  {
   "cell_type": "code",
   "execution_count": null,
   "id": "0f90bc35",
   "metadata": {},
   "outputs": [],
   "source": [
    "from spotify_api import get_spotify, concat_df, date_parse_df\n",
    "import json\n",
    "import pandas as pd\n",
    "pd.set_option('display.max_columns', 25)\n",
    "import requests"
   ]
  },
  {
   "cell_type": "code",
   "execution_count": null,
   "id": "6c261768",
   "metadata": {},
   "outputs": [],
   "source": [
    "help(get_spotify)"
   ]
  },
  {
   "cell_type": "code",
   "execution_count": null,
   "id": "b73403a3",
   "metadata": {},
   "outputs": [],
   "source": [
    "user_likes = get_spotify(token,kind=\"user_tracks\",user=True)\n"
   ]
  },
  {
   "cell_type": "code",
   "execution_count": null,
   "id": "d0b4775c",
   "metadata": {},
   "outputs": [],
   "source": [
    "# Concat all the list of responses\n",
    "\n",
    "df_likes = concat_df(user_likes)"
   ]
  },
  {
   "cell_type": "code",
   "execution_count": null,
   "id": "b80f9a00",
   "metadata": {
    "scrolled": true
   },
   "outputs": [],
   "source": [
    "df_likes"
   ]
  },
  {
   "cell_type": "code",
   "execution_count": null,
   "id": "796fa3b1",
   "metadata": {},
   "outputs": [],
   "source": [
    "# parse out the items column\n",
    "df_items = pd.json_normalize(df_likes[\"items\"])\n",
    "\n",
    "df_items"
   ]
  },
  {
   "cell_type": "code",
   "execution_count": null,
   "id": "1b701286",
   "metadata": {},
   "outputs": [],
   "source": [
    "# Get 1 artist name from each record - Improvement can be made to get other artist, but this will suffice\n",
    "df_items[\"artist_name\"] = df_items[\"track.album.artists\"].apply(lambda x: x[0][\"name\"])\n",
    "df_items[\"artist_id\"] = df_items[\"track.album.artists\"].apply(lambda x: x[0][\"id\"])"
   ]
  },
  {
   "cell_type": "code",
   "execution_count": null,
   "id": "5cede742",
   "metadata": {},
   "outputs": [],
   "source": [
    "df_items"
   ]
  },
  {
   "cell_type": "code",
   "execution_count": null,
   "id": "c26eeddc",
   "metadata": {},
   "outputs": [],
   "source": [
    "# Reorganize Columns\n",
    "\n",
    "df_columns = ['added_at','track.album.release_date','track.album.release_date_precision',\n",
    "       'track.album.name','track.album.total_tracks',\n",
    "       'track.album.type','artist_name','track.name', 'track.popularity',\n",
    "       'track.duration_ms','track.disc_number',\n",
    "       'track.explicit', 'track.external_ids.isrc',\n",
    "       'track.external_urls.spotify', 'track.href',\n",
    "       'track.is_local','track.preview_url',\n",
    "       'track.track_number', 'track.type',\n",
    "        'track.album.album_type','track.album.href', 'track.album.id', \n",
    "        'track.id','track.uri','track.album.images','track.album.available_markets','track.available_markets', \n",
    "        'track.album.external_urls.spotify' ,'track.album.uri','track.album.artists','track.artists',\"artist_id\"]"
   ]
  },
  {
   "cell_type": "code",
   "execution_count": null,
   "id": "cc836d45",
   "metadata": {
    "scrolled": true
   },
   "outputs": [],
   "source": [
    "df_items[df_columns]"
   ]
  },
  {
   "cell_type": "markdown",
   "id": "973492bc",
   "metadata": {},
   "source": [
    "# Get Artist Info"
   ]
  },
  {
   "cell_type": "code",
   "execution_count": null,
   "id": "2cf22a84",
   "metadata": {},
   "outputs": [],
   "source": [
    "unique_artists = df_items[\"artist_id\"].unique().tolist()"
   ]
  },
  {
   "cell_type": "code",
   "execution_count": null,
   "id": "deef740a",
   "metadata": {
    "scrolled": true
   },
   "outputs": [],
   "source": [
    "help(get_spotify)"
   ]
  },
  {
   "cell_type": "code",
   "execution_count": null,
   "id": "974151b1",
   "metadata": {},
   "outputs": [],
   "source": [
    "#Spotify_track_uri_limit - amount of uris allowed to be in endpoint\n",
    "#Cycle - is how many times around the loop\n",
    "\n",
    "#This should be added to the library\n",
    "import math\n",
    "import numpy as np\n",
    "\n",
    "spotify_track_uri_limit = 50\n",
    "cycle = math.ceil((len(unique_artists)/spotify_track_uri_limit))\n",
    "\n",
    "#Split list_track_uri into chunks by cycle amount\n",
    "track_uri_chunks = np.array_split(np.array(unique_artists),cycle)\n",
    "\n",
    "artist_info_list = []\n",
    "\n",
    "for i in range(cycle):\n",
    "    char = '%2C'\n",
    "    string_track_uri_chunks = char.join(track_uri_chunks[i])\n",
    "    artist_info = get_spotify(token,kind=\"artists\",elements=string_track_uri_chunks)\n",
    "    artist_info_list.append(artist_info)\n",
    "    "
   ]
  },
  {
   "cell_type": "code",
   "execution_count": null,
   "id": "899421c8",
   "metadata": {
    "scrolled": true
   },
   "outputs": [],
   "source": [
    "df_artist_info = pd.json_normalize(concat_df(artist_info_list)[\"artists\"])"
   ]
  },
  {
   "cell_type": "markdown",
   "id": "c27e2abd",
   "metadata": {},
   "source": [
    "# Get Track Audio Features"
   ]
  },
  {
   "cell_type": "code",
   "execution_count": null,
   "id": "3447b68a",
   "metadata": {},
   "outputs": [],
   "source": [
    "unique_tracks = df_items[\"track.id\"].unique().tolist()"
   ]
  },
  {
   "cell_type": "code",
   "execution_count": null,
   "id": "07a0bc4b",
   "metadata": {},
   "outputs": [],
   "source": [
    "df_items.columns"
   ]
  },
  {
   "cell_type": "code",
   "execution_count": null,
   "id": "8e15a6be",
   "metadata": {},
   "outputs": [],
   "source": [
    "#Spotify_track_uri_limit - amount of uris allowed to be in endpoint\n",
    "#Cycle - is how many times around the loop\n",
    "\n",
    "#This should be added to the library\n",
    "import math\n",
    "import numpy as np\n",
    "\n",
    "spotify_track_uri_limit = 100\n",
    "cycle = math.ceil((len(unique_tracks)/spotify_track_uri_limit))\n",
    "\n",
    "#Split list_track_uri into chunks by cycle amount\n",
    "track_uri_chunks = np.array_split(np.array(unique_tracks),cycle)\n",
    "\n",
    "audio_features_list = []\n",
    "\n",
    "for i in range(cycle):\n",
    "    char = '%2C'\n",
    "    string_track_uri_chunks = char.join(track_uri_chunks[i])\n",
    "    artist_info = get_spotify(token,kind=\"audio-features\",elements=string_track_uri_chunks)\n",
    "    audio_features_list.append(artist_info)\n",
    "    "
   ]
  },
  {
   "cell_type": "code",
   "execution_count": null,
   "id": "03a88273",
   "metadata": {},
   "outputs": [],
   "source": [
    "df_audio_features = pd.json_normalize(concat_df(audio_features_list)[\"audio_features\"])"
   ]
  },
  {
   "cell_type": "code",
   "execution_count": null,
   "id": "70b4da0b",
   "metadata": {},
   "outputs": [],
   "source": [
    "df_audio_features"
   ]
  },
  {
   "cell_type": "markdown",
   "id": "80fda2c9",
   "metadata": {},
   "source": [
    "# Merge Artist Info and Track Audio Feature DFs"
   ]
  },
  {
   "cell_type": "code",
   "execution_count": null,
   "id": "a94d2ee9",
   "metadata": {},
   "outputs": [],
   "source": [
    "sim_cols_artist = set(df_artist_info.columns).intersection(df_items.columns)\n",
    "sim_cols_artist"
   ]
  },
  {
   "cell_type": "code",
   "execution_count": null,
   "id": "9d7a5d9f",
   "metadata": {},
   "outputs": [],
   "source": [
    "df_user_likes_complete = (\n",
    "                            df_items\n",
    "    \n",
    "                          .merge(df_artist_info[[\"id\",\"popularity\",\"genres\",\"followers.total\"]],\n",
    "                                 \n",
    "                                 left_on=\"artist_id\",right_on=\"id\")\n",
    "    \n",
    "                          .merge(df_audio_features[[\"id\",\"danceability\",\"energy\",\"key\",\"loudness\",\"mode\"\n",
    "                                                   ,\"speechiness\",\"acousticness\",\"instrumentalness\"\n",
    "                                                   ,\"liveness\",\"valence\",\"tempo\",\"time_signature\"]]\n",
    "                                 \n",
    "                                 ,left_on=\"track.id\",right_on=\"id\")\n",
    "    \n",
    "                         ).sort_values(\"date\",ascending=False)"
   ]
  },
  {
   "cell_type": "code",
   "execution_count": null,
   "id": "7c9ef639",
   "metadata": {},
   "outputs": [],
   "source": [
    "df_user_likes_complete"
   ]
  },
  {
   "cell_type": "code",
   "execution_count": null,
   "id": "64fea924",
   "metadata": {},
   "outputs": [],
   "source": [
    "df_user_likes_complete.to_csv(f\"{user_name}_likes.csv\",index=False)"
   ]
  },
  {
   "cell_type": "markdown",
   "id": "a4b6143f",
   "metadata": {},
   "source": [
    "# Specify Date"
   ]
  },
  {
   "cell_type": "code",
   "execution_count": null,
   "id": "48514803",
   "metadata": {},
   "outputs": [],
   "source": [
    "# Create sep cols for year, month, and day\n",
    "df_user_likes_complete_date_parse = date_parse_df(df_user_likes_complete,[\"track.album.release_date\"])"
   ]
  },
  {
   "cell_type": "code",
   "execution_count": null,
   "id": "ec8ed5e0",
   "metadata": {},
   "outputs": [],
   "source": [
    "# Query month_range\n",
    "\n",
    "df_user_likes_complete_date_range = (df_user_likes_complete_date_parse.query('`track.album.release_date.month` == @begin_month & `track.album.release_date.month` <= @end_month')\n",
    ".sort_values(\"track.album.release_date.year\",ascending=False)).reset_index(drop=True)"
   ]
  },
  {
   "cell_type": "code",
   "execution_count": null,
   "id": "64324f91",
   "metadata": {},
   "outputs": [],
   "source": [
    "df_user_likes_complete_date_range.to_csv(f\"{user_name}_likes_dr_{begin_month}_{end_month}.csv\",index=False)"
   ]
  },
  {
   "cell_type": "markdown",
   "id": "9a7f8423",
   "metadata": {},
   "source": [
    "# Add Playlist to User Library"
   ]
  },
  {
   "cell_type": "code",
   "execution_count": null,
   "id": "91f2cdcc",
   "metadata": {},
   "outputs": [],
   "source": [
    "header = {\"Authorization\":'Bearer '+ token}\n",
    "\n",
    "user_profile = requests.get(\"https://api.spotify.com/v1/me\",headers=header)\n",
    "\n",
    "user_id = user_profile.json()[\"id\"]"
   ]
  },
  {
   "cell_type": "code",
   "execution_count": null,
   "id": "6bd30a41",
   "metadata": {},
   "outputs": [],
   "source": [
    "user_id"
   ]
  },
  {
   "cell_type": "code",
   "execution_count": null,
   "id": "49322405",
   "metadata": {},
   "outputs": [],
   "source": [
    "p_name = f\"Likes_form_{begin_month}_{end_month}\"\n",
    "p_description = \"Made for the season\"\n",
    "\n",
    "rb = {\n",
    "  \"name\": p_name,\n",
    "  \"description\": p_description,\n",
    "  \"public\": False\n",
    "}\n",
    "\n",
    "playlist_endpoint = f\"https://api.spotify.com/v1/users/{user_id}/playlists\"\n",
    "\n",
    "\n",
    "playlist_endpoint"
   ]
  },
  {
   "cell_type": "code",
   "execution_count": null,
   "id": "f32f0bed",
   "metadata": {},
   "outputs": [],
   "source": [
    "response = requests.post(playlist_endpoint,headers=header,json=rb)"
   ]
  },
  {
   "cell_type": "code",
   "execution_count": null,
   "id": "ab20199f",
   "metadata": {},
   "outputs": [],
   "source": [
    "playlist_id = response.json()[\"id\"]"
   ]
  },
  {
   "cell_type": "code",
   "execution_count": null,
   "id": "eb4f098b",
   "metadata": {},
   "outputs": [],
   "source": [
    "added_tracks_to_playlist = df_user_likes_complete_date_range[\"track.uri\"].unique().tolist()\n",
    "\n",
    "spotify_track_uri_limit = 100\n",
    "cycle = math.ceil((len(added_tracks_to_playlist)/spotify_track_uri_limit))\n",
    "\n",
    "#Split list_track_uri into chunks by cycle amount\n",
    "track_uri_chunks = np.array_split(np.array(added_tracks_to_playlist),cycle)\n",
    "\n",
    "audio_features_list = []\n",
    "\n",
    "for i in range(cycle):\n",
    "    char = ','\n",
    "    string_track_uri_chunks = char.join(track_uri_chunks[i])\n",
    "    add_playlist_tracks_endpoint = f\"https://api.spotify.com/v1/playlists/{playlist_id}/tracks?uris={string_track_uri_chunks}\"\n",
    "    response = requests.post(add_playlist_tracks_endpoint,headers=header)"
   ]
  },
  {
   "cell_type": "markdown",
   "id": "95d76485",
   "metadata": {},
   "source": [
    "# EDA"
   ]
  },
  {
   "cell_type": "code",
   "execution_count": null,
   "id": "a242d0dd",
   "metadata": {},
   "outputs": [],
   "source": [
    "(df_daterange_likes_complete.select_dtypes(include=[int,float]).corr()\n",
    " .style.applymap(lambda x: 'background-color : green' if x>0.30 else ''))"
   ]
  },
  {
   "cell_type": "markdown",
   "id": "cbf74840",
   "metadata": {},
   "source": [
    "# OAuth"
   ]
  },
  {
   "cell_type": "code",
   "execution_count": null,
   "id": "011c37f1",
   "metadata": {},
   "outputs": [],
   "source": [
    "\"\"\"\n",
    "\n",
    "with open(\"creds.json\") as f:\n",
    "    creds = json.load(f)\n",
    "    \n",
    "    CLIENT_ID = creds[\"Client_ID\"]\n",
    "    CLIENT_SECRET = creds[\"Client_Secret\"]\n",
    "    \n",
    "scope = \" \".join([\"user-library-read\",\"user-read-email\",\"user-read-private\"\n",
    "         ,\"user-follow-read\",\"playlist-modify-private\", \"playlist-modify-public\"])\n",
    "\n",
    "AUTH_URL = 'https://accounts.spotify.com/api/token'\n",
    "\n",
    "# POST\n",
    "auth_response = requests.post(AUTH_URL,\n",
    "    {'grant_type': 'client_credentials',\n",
    "    'client_id': CLIENT_ID,\n",
    "    'client_secret': CLIENT_SECRET,\n",
    "    'scope':scope})\n",
    "\n",
    "# convert the response to JSON\n",
    "auth_response_data = auth_response.json()\n",
    "\n",
    "# save the access token\n",
    "token = auth_response_data['access_token']\n",
    "\"\"\"    "
   ]
  }
 ],
 "metadata": {
  "kernelspec": {
   "display_name": "Python 3",
   "language": "python",
   "name": "python3"
  },
  "language_info": {
   "codemirror_mode": {
    "name": "ipython",
    "version": 3
   },
   "file_extension": ".py",
   "mimetype": "text/x-python",
   "name": "python",
   "nbconvert_exporter": "python",
   "pygments_lexer": "ipython3",
   "version": "3.8.8"
  }
 },
 "nbformat": 4,
 "nbformat_minor": 5
}
